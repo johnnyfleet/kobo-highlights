{
 "cells": [
  {
   "cell_type": "markdown",
   "metadata": {},
   "source": [
    "Extract Highlights\n",
    "\n",
    "This notebook tests extracting the highlights from [Kobuddy](https://github.com/karlicoss/kobuddy?tab=readme-ov-file)."
   ]
  },
  {
   "cell_type": "code",
   "execution_count": null,
   "metadata": {},
   "outputs": [],
   "source": [
    "import pandas as pd\n",
    "import re\n",
    "from datetime import datetime\n",
    "import os"
   ]
  },
  {
   "cell_type": "code",
   "execution_count": null,
   "metadata": {},
   "outputs": [],
   "source": [
    "# Step 1: Read the file\n",
    "file_path = \"annotations.txt\"  # Replace with your file path\n",
    "with open(file_path, \"r\") as file:\n",
    "    data = file.read()"
   ]
  },
  {
   "cell_type": "code",
   "execution_count": null,
   "metadata": {},
   "outputs": [],
   "source": [
    "data"
   ]
  },
  {
   "cell_type": "code",
   "execution_count": null,
   "metadata": {},
   "outputs": [],
   "source": [
    "# Step 2: Split into individual annotations using the \"------\" separator\n",
    "entries = data.strip().split(\"------\")\n",
    "entries = [entry.strip() for entry in entries if entry.strip()]  # Remove empty and strip whitespace"
   ]
  },
  {
   "cell_type": "code",
   "execution_count": null,
   "metadata": {},
   "outputs": [],
   "source": [
    "entries"
   ]
  },
  {
   "cell_type": "code",
   "execution_count": null,
   "metadata": {},
   "outputs": [],
   "source": [
    "# Step 3: Parse each entry into date/time, book title, and annotation\n",
    "parsed_data = []\n",
    "for entry in entries:\n",
    "    lines = entry.split(\"\\n\")\n",
    "    if len(lines) >= 2:\n",
    "        # Extract date/time and book title using regex\n",
    "        match = re.match(r\"^([\\d]{2} [A-Za-z]{3} [\\d]{4} [\\d]{2}:[\\d]{2}) (.+)$\", lines[0].strip())\n",
    "        if match:\n",
    "            date_time_str = match.group(1)\n",
    "            book_title = match.group(2)\n",
    "            annotation = \"\\n\".join(line.strip() for line in lines[1:] if line.strip())  # Combine annotation lines\n",
    "            try:\n",
    "                date_time = datetime.strptime(date_time_str, \"%d %b %Y %H:%M\")  # Parse date/time\n",
    "                parsed_data.append([date_time, book_title, annotation])\n",
    "            except ValueError:\n",
    "                print(f\"Skipping invalid date format: {date_time_str}\")"
   ]
  },
  {
   "cell_type": "code",
   "execution_count": null,
   "metadata": {},
   "outputs": [],
   "source": [
    "parsed_data"
   ]
  },
  {
   "cell_type": "code",
   "execution_count": null,
   "metadata": {},
   "outputs": [],
   "source": [
    "# Step 4: Create a DataFrame\n",
    "df = pd.DataFrame(parsed_data, columns=[\"Date/Time\", \"Book Title\", \"Annotation\"])"
   ]
  },
  {
   "cell_type": "code",
   "execution_count": null,
   "metadata": {},
   "outputs": [],
   "source": [
    "df.head()"
   ]
  },
  {
   "cell_type": "code",
   "execution_count": null,
   "metadata": {},
   "outputs": [],
   "source": [
    "# Step 5: Sort by Book Title and Date/Time\n",
    "df = df.sort_values(by=[\"Book Title\", \"Date/Time\"])"
   ]
  },
  {
   "cell_type": "code",
   "execution_count": null,
   "metadata": {},
   "outputs": [],
   "source": [
    "df.head()"
   ]
  },
  {
   "cell_type": "code",
   "execution_count": null,
   "metadata": {},
   "outputs": [],
   "source": [
    "# Optionally save to a CSV file\n",
    "df.to_csv(\"annotations_sorted.csv\", index=False)"
   ]
  },
  {
   "cell_type": "code",
   "execution_count": null,
   "metadata": {},
   "outputs": [],
   "source": [
    "# Step 1: Group annotations by book title\n",
    "grouped = df.groupby(\"Book Title\")"
   ]
  },
  {
   "cell_type": "code",
   "execution_count": null,
   "metadata": {},
   "outputs": [],
   "source": [
    "grouped.head()"
   ]
  },
  {
   "cell_type": "code",
   "execution_count": null,
   "metadata": {},
   "outputs": [],
   "source": [
    "# Step 2: Create a markdown string\n",
    "markdown_content = \"\"\n",
    "for book_title, group in grouped:\n",
    "    markdown_content += f\"## {book_title}\\n\\n\"\n",
    "    for annotation in group[\"Annotation\"]:\n",
    "        markdown_content += f\"- {annotation}\\n\"\n",
    "    markdown_content += \"\\n\""
   ]
  },
  {
   "cell_type": "code",
   "execution_count": null,
   "metadata": {},
   "outputs": [],
   "source": [
    "markdown_content"
   ]
  },
  {
   "cell_type": "code",
   "execution_count": null,
   "metadata": {},
   "outputs": [],
   "source": [
    "# Step 3: Save the markdown content to a file\n",
    "output_file = \"annotations.md\"\n",
    "with open(output_file, \"w\") as file:\n",
    "    file.write(markdown_content)\n",
    "\n",
    "print(f\"Markdown file '{output_file}' created successfully.\")"
   ]
  },
  {
   "cell_type": "markdown",
   "metadata": {},
   "source": [
    "### Split out and save annotations in a one-book-per-md format"
   ]
  },
  {
   "cell_type": "code",
   "execution_count": null,
   "metadata": {},
   "outputs": [],
   "source": [
    "# Step 1: Create a directory to store the markdown files\n",
    "output_dir = \"book_annotations\"\n",
    "os.makedirs(output_dir, exist_ok=True)"
   ]
  },
  {
   "cell_type": "code",
   "execution_count": null,
   "metadata": {},
   "outputs": [],
   "source": [
    "# Step 3: Loop through each book and create individual markdown files\n",
    "for book_title, group in grouped:\n",
    "    # Sanitize the book title to create a valid filename\n",
    "    sanitized_title = re.sub(r'[<>:\"/\\\\|?*]', '', book_title).strip().replace(' ', '_')\n",
    "    filename = f\"{sanitized_title}.md\"\n",
    "\n",
    "    # Build the markdown content for this book\n",
    "    markdown_content = f\"## {book_title}\\n\\n\"\n",
    "    for annotation in group[\"Annotation\"]:\n",
    "        markdown_content += f\"- {annotation}\\n\"\n",
    "    markdown_content += \"\\n\"\n",
    "\n",
    "    # Save the content to a markdown file\n",
    "    file_path = os.path.join(output_dir, filename)\n",
    "    with open(file_path, \"w\", encoding=\"utf-8\") as file:\n",
    "        file.write(markdown_content)\n",
    "\n",
    "print(f\"Markdown files for each book have been created in the '{output_dir}' directory.\")"
   ]
  }
 ],
 "metadata": {
  "language_info": {
   "name": "python"
  }
 },
 "nbformat": 4,
 "nbformat_minor": 2
}
